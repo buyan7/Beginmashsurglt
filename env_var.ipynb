{
 "cells": [
  {
   "cell_type": "code",
   "execution_count": null,
   "metadata": {},
   "outputs": [],
   "source": []
  },
  {
   "cell_type": "code",
   "execution_count": 144,
   "metadata": {},
   "outputs": [],
   "source": [
    "import os\n"
   ]
  },
  {
   "cell_type": "code",
   "execution_count": 110,
   "metadata": {},
   "outputs": [
    {
     "data": {
      "text/plain": [
       "environ{'ALLUSERSPROFILE': 'C:\\\\ProgramData',\n",
       "        'APPDATA': 'C:\\\\Users\\\\User\\\\AppData\\\\Roaming',\n",
       "        'APPLICATIONINSIGHTS_CONFIGURATION_CONTENT': '{}',\n",
       "        'APPLICATION_INSIGHTS_NO_DIAGNOSTIC_CHANNEL': '1',\n",
       "        'ASL.LOG': 'Destination=file',\n",
       "        'CHOCOLATEYINSTALL': 'C:\\\\ProgramData\\\\chocolatey',\n",
       "        'CHOCOLATEYLASTPATHUPDATE': '133240347170792069',\n",
       "        'CHROME_CRASHPAD_PIPE_NAME': '\\\\\\\\.\\\\pipe\\\\crashpad_25296_VQXTIOHKHABUQQOP',\n",
       "        'COMMONPROGRAMFILES': 'C:\\\\Program Files\\\\Common Files',\n",
       "        'COMMONPROGRAMFILES(X86)': 'C:\\\\Program Files (x86)\\\\Common Files',\n",
       "        'COMMONPROGRAMW6432': 'C:\\\\Program Files\\\\Common Files',\n",
       "        'COMPUTERNAME': 'BX',\n",
       "        'COMSPEC': 'C:\\\\WINDOWS\\\\system32\\\\cmd.exe',\n",
       "        'CONDA_ALLOW_SOFTLINKS': 'false',\n",
       "        'CONDA_DEFAULT_ENV': 'testenv',\n",
       "        'CONDA_EXE': 'C:\\\\Users\\\\User\\\\anaconda3\\\\Scripts\\\\conda.exe',\n",
       "        'CONDA_PREFIX': 'C:\\\\Users\\\\User\\\\anaconda3\\\\envs\\\\testenv',\n",
       "        'CONDA_PROMPT_MODIFIER': '(testenv) ',\n",
       "        'CONDA_PYTHON_EXE': 'C:\\\\Users\\\\User\\\\anaconda3\\\\python.exe',\n",
       "        'CONDA_ROOT': 'C:\\\\Users\\\\User\\\\anaconda3',\n",
       "        'CONDA_SHLVL': '1',\n",
       "        'DATA_DIR': 'C:\\\\Users\\\\User/MLDATA',\n",
       "        'DRIVERDATA': 'C:\\\\Windows\\\\System32\\\\Drivers\\\\DriverData',\n",
       "        'EFC_12004': '1',\n",
       "        'ELECTRON_RUN_AS_NODE': '1',\n",
       "        'GDAL_DATA': 'C:\\\\Program Files\\\\PostgreSQL\\\\15\\\\gdal-data',\n",
       "        'HOMEDRIVE': 'C:',\n",
       "        'HOMEPATH': '\\\\Users\\\\User',\n",
       "        'IGCCSVC_DB': 'AQAAANCMnd8BFdERjHoAwE/Cl+sBAAAACNvQvgHnIkWNmyLb6bk9gQQAAAACAAAAAAAQZgAAAAEAACAAAAC9/+X1zzMRTRVOhbKZeeDIGqkdtEKyt9bsILqejz2ktgAAAAAOgAAAAAIAACAAAAAWwGDr20M27bShfUSuyNpVXKPMgHp0dlZx5bkmUixHzGAAAAAOJRP8C8TmC5BHHv2cErqqop9ZIklUUhSvpM7Bvxq5lkoaJCz1pu+a9jUyq8TqW981+VsHaUaHo94teiXRRsq4hsk4miK0v4UmEYPKBHbNnKt9xkq8bpKggA/z09PKJUlAAAAAjdrfY1iwStRgWa6LcldOAPV4n5F4Rgw+8WdmipLjnybkbhdHeq8j928JxXRvT8/VPHf19NZfXvja14gzC7CCCw==',\n",
       "        'INTEL_DEV_REDIST': 'C:\\\\Program Files (x86)\\\\Common Files\\\\Intel\\\\Shared Libraries\\\\',\n",
       "        'JAVA_HOME': 'C:\\\\Program Files\\\\Java\\\\jdk-17\\\\bin',\n",
       "        'JPY_INTERRUPT_EVENT': '1636',\n",
       "        'KAGGLE_CONFIG_DIR': 'C:\\\\Users\\\\User/.kaggle/kaggle.json',\n",
       "        'KAGGLE_KEY': '3cd8a99ba6e8adb4f2e704c0f889b665',\n",
       "        'KAGGLE_USERNAME': 'buyankhishiggombojav',\n",
       "        'KMP_BLOCKTIME': '0',\n",
       "        'LOCALAPPDATA': 'C:\\\\Users\\\\User\\\\AppData\\\\Local',\n",
       "        'LOGONSERVER': '\\\\\\\\BX',\n",
       "        'MAX_DEPTH': '30',\n",
       "        'MIC_LD_LIBRARY_PATH': 'C:\\\\Program Files (x86)\\\\Common Files\\\\Intel\\\\Shared Libraries\\\\compiler\\\\lib\\\\mic',\n",
       "        'MIN_SAMPLES_LEAF': '2',\n",
       "        'MIN_SAMPLES_SPLIT': '3',\n",
       "        'MODEL_DIR': 'C:\\\\Users\\\\User/MLMODEL',\n",
       "        'NUMBER_OF_PROCESSORS': '24',\n",
       "        'NVM_HOME': 'C:\\\\Users\\\\User\\\\AppData\\\\Roaming\\\\nvm',\n",
       "        'NVM_SYMLINK': 'C:\\\\Program Files\\\\nodejs',\n",
       "        'OMP_WAIT_POLICY': 'PASSIVE',\n",
       "        'ONEDRIVE': 'C:\\\\Users\\\\User\\\\OneDrive - Mongolian National Audit Office',\n",
       "        'ONEDRIVECOMMERCIAL': 'C:\\\\Users\\\\User\\\\OneDrive - Mongolian National Audit Office',\n",
       "        'OPENSSL_CONF': 'C:\\\\Program Files\\\\PostgreSQL\\\\psqlODBC\\\\etc\\\\openssl.cnf',\n",
       "        'ORIGINAL_XDG_CURRENT_DESKTOP': 'undefined',\n",
       "        'OS': 'Windows_NT',\n",
       "        'PATH': 'c:\\\\Users\\\\User\\\\anaconda3\\\\envs\\\\testenv;C:\\\\Users\\\\User\\\\anaconda3\\\\envs\\\\testenv;C:\\\\Users\\\\User\\\\anaconda3\\\\envs\\\\testenv\\\\Library\\\\mingw-w64\\\\bin;C:\\\\Users\\\\User\\\\anaconda3\\\\envs\\\\testenv\\\\Library\\\\usr\\\\bin;C:\\\\Users\\\\User\\\\anaconda3\\\\envs\\\\testenv\\\\Library\\\\bin;C:\\\\Users\\\\User\\\\anaconda3\\\\envs\\\\testenv\\\\Scripts;C:\\\\Users\\\\User\\\\anaconda3\\\\envs\\\\testenv\\\\bin;C:\\\\Users\\\\User\\\\anaconda3\\\\condabin;C:\\\\Program Files\\\\Java\\\\jdk-17\\\\bin;C:\\\\Program Files (x86)\\\\Common Files\\\\Intel\\\\Shared Libraries\\\\redist\\\\intel64\\\\compiler;C:\\\\Windows\\\\system32;C:\\\\Windows;C:\\\\Windows\\\\System32\\\\Wbem;C:\\\\Windows\\\\System32\\\\WindowsPowerShell\\\\v1.0;C:\\\\Windows\\\\System32\\\\OpenSSH;C:\\\\Program Files\\\\dotnet;C:\\\\ProgramData\\\\chocolatey\\\\bin;C:\\\\Program Files\\\\Git\\\\cmd;D:\\\\oracle\\\\instantclient_21_9;C:\\\\Users\\\\User\\\\AppData\\\\Local\\\\Programs\\\\Python\\\\Python311\\\\Scripts;C:\\\\Program Files\\\\Docker\\\\Docker\\\\resources\\\\bin;C:\\\\Program Files\\\\TortoiseSVN\\\\bin;C:\\\\Program Files (x86)\\\\Microsoft SQL Server\\\\160\\\\DTS\\\\Binn;C:\\\\Users\\\\User\\\\AppData\\\\Local\\\\Microsoft\\\\WindowsApps;C:\\\\Users\\\\User\\\\AppData\\\\Local\\\\Programs\\\\Microsoft VS Code\\\\bin;C:\\\\Users\\\\User\\\\AppData\\\\Roaming\\\\npm;C:\\\\adb;C:\\\\Users\\\\User\\\\AppData\\\\Roaming\\\\nvm;C:\\\\Program Files\\\\nodejs;C:\\\\WINDOWS\\\\system32;C:\\\\WINDOWS;C:\\\\WINDOWS\\\\System32\\\\Wbem;C:\\\\WINDOWS\\\\System32\\\\WindowsPowerShell\\\\v1.0;C:\\\\WINDOWS\\\\System32\\\\OpenSSH;D:\\\\flutter\\\\flutter\\\\bin;C:\\\\Users\\\\User\\\\anaconda3\\\\Scripts;C:\\\\Users\\\\User\\\\anaconda3\\\\Library\\\\bin;C:\\\\Users\\\\User\\\\anaconda3;C:\\\\Users\\\\User\\\\AppData\\\\Local\\\\Microsoft\\\\WindowsApps;C:\\\\Users\\\\User\\\\AppData\\\\Local\\\\Programs\\\\Microsoft VS Code\\\\bin;D:\\\\oracle\\\\instantclient_21_9;C:\\\\Users\\\\User\\\\AppData\\\\Roaming\\\\npm;C:\\\\Users\\\\User\\\\AppData\\\\Roaming\\\\nvm;C:\\\\Program Files\\\\nodejs;.',\n",
       "        'PATHEXT': '.COM;.EXE;.BAT;.CMD;.VBS;.VBE;.JS;.JSE;.WSF;.WSH;.MSC',\n",
       "        'POSTGIS_ENABLE_OUTDB_RASTERS': '1',\n",
       "        'POSTGIS_GDAL_ENABLED_DRIVERS': 'GTiff PNG JPEG GIF XYZ DTED USGSDEM AAIGrid',\n",
       "        'PROCESSOR_ARCHITECTURE': 'AMD64',\n",
       "        'PROCESSOR_IDENTIFIER': 'Intel64 Family 6 Model 151 Stepping 2, GenuineIntel',\n",
       "        'PROCESSOR_LEVEL': '6',\n",
       "        'PROCESSOR_REVISION': '9702',\n",
       "        'PROGRAMDATA': 'C:\\\\ProgramData',\n",
       "        'PROGRAMFILES': 'C:\\\\Program Files',\n",
       "        'PROGRAMFILES(X86)': 'C:\\\\Program Files (x86)',\n",
       "        'PROGRAMW6432': 'C:\\\\Program Files',\n",
       "        'PROJ_LIB': 'C:\\\\Program Files\\\\PostgreSQL\\\\15\\\\share\\\\contrib\\\\postgis-3.3\\\\proj',\n",
       "        'PROMPT': '(testenv) $P$G',\n",
       "        'PSMODULEPATH': 'C:\\\\Program Files\\\\WindowsPowerShell\\\\Modules;C:\\\\WINDOWS\\\\system32\\\\WindowsPowerShell\\\\v1.0\\\\Modules',\n",
       "        'PUBLIC': 'C:\\\\Users\\\\Public',\n",
       "        'PYDEVD_IPYTHON_COMPATIBLE_DEBUGGING': '1',\n",
       "        'PYTHONIOENCODING': 'utf-8',\n",
       "        'PYTHONUNBUFFERED': '1',\n",
       "        'PYTHONUTF8': '1',\n",
       "        'PYTHON_FROZEN_MODULES': 'on',\n",
       "        'REACT_NATIVE_PACKAGER_HOSTNAME': 'http://172.16.24.101/',\n",
       "        'SESSIONNAME': 'Console',\n",
       "        'SSL_CERT_FILE': 'C:\\\\Users\\\\User\\\\anaconda3\\\\envs\\\\testenv\\\\Library\\\\ssl\\\\cacert.pem',\n",
       "        'SYSTEMDRIVE': 'C:',\n",
       "        'SYSTEMROOT': 'C:\\\\WINDOWS',\n",
       "        'TEMP': 'C:\\\\Users\\\\User\\\\AppData\\\\Local\\\\Temp',\n",
       "        'TMP': 'C:\\\\Users\\\\User\\\\AppData\\\\Local\\\\Temp',\n",
       "        'USERDOMAIN': 'BX',\n",
       "        'USERDOMAIN_ROAMINGPROFILE': 'BX',\n",
       "        'USERNAME': 'Buyan',\n",
       "        'USERPROFILE': 'C:\\\\Users\\\\User',\n",
       "        'VBOX_MSI_INSTALL_PATH': 'C:\\\\Program Files\\\\Oracle\\\\VirtualBox\\\\',\n",
       "        'VSCODE_CODE_CACHE_PATH': 'C:\\\\Users\\\\User\\\\AppData\\\\Roaming\\\\Code\\\\CachedData\\\\e54c774e0add60467559eb0d1e229c6452cf8447',\n",
       "        'VSCODE_CRASH_REPORTER_PROCESS_TYPE': 'extensionHost',\n",
       "        'VSCODE_CWD': 'C:\\\\Users\\\\User\\\\AppData\\\\Local\\\\Programs\\\\Microsoft VS Code',\n",
       "        'VSCODE_ESM_ENTRYPOINT': 'vs/workbench/api/node/extensionHostProcess',\n",
       "        'VSCODE_HANDLES_UNCAUGHT_ERRORS': 'true',\n",
       "        'VSCODE_IPC_HOOK': '\\\\\\\\.\\\\pipe\\\\7a324ef7-1.97.2-main-sock',\n",
       "        'VSCODE_NLS_CONFIG': '{\"userLocale\":\"en-us\",\"osLocale\":\"en-us\",\"resolvedLanguage\":\"en\",\"defaultMessagesFile\":\"C:\\\\\\\\Users\\\\\\\\User\\\\\\\\AppData\\\\\\\\Local\\\\\\\\Programs\\\\\\\\Microsoft VS Code\\\\\\\\resources\\\\\\\\app\\\\\\\\out\\\\\\\\nls.messages.json\",\"locale\":\"en-us\",\"availableLanguages\":{}}',\n",
       "        'VSCODE_PID': '25296',\n",
       "        'WINDIR': 'C:\\\\WINDOWS',\n",
       "        'ZES_ENABLE_SYSMAN': '1',\n",
       "        '_CONDA_OLD_CHCP': '437',\n",
       "        '__CONDA_OPENSLL_CERT_FILE_SET': '\"1\"',\n",
       "        'PYDEVD_USE_FRAME_EVAL': 'NO',\n",
       "        'TERM': 'xterm-color',\n",
       "        'CLICOLOR': '1',\n",
       "        'FORCE_COLOR': '1',\n",
       "        'CLICOLOR_FORCE': '1',\n",
       "        'PAGER': 'cat',\n",
       "        'GIT_PAGER': 'cat',\n",
       "        'MPLBACKEND': 'module://matplotlib_inline.backend_inline',\n",
       "        'KMP_DUPLICATE_LIB_OK': 'True',\n",
       "        'KMP_INIT_AT_FORK': 'FALSE'}"
      ]
     },
     "execution_count": 110,
     "metadata": {},
     "output_type": "execute_result"
    }
   ],
   "source": [
    "os.environ"
   ]
  },
  {
   "cell_type": "code",
   "execution_count": 111,
   "metadata": {},
   "outputs": [
    {
     "data": {
      "text/plain": [
       "'C:\\\\Users\\\\User/MLMODEL'"
      ]
     },
     "execution_count": 111,
     "metadata": {},
     "output_type": "execute_result"
    }
   ],
   "source": [
    "os.environ.get('MODEL_DIR')\n"
   ]
  },
  {
   "cell_type": "code",
   "execution_count": 145,
   "metadata": {},
   "outputs": [],
   "source": [
    "import pandas as pd\n",
    "import pickle\n",
    "from sklearn.model_selection import train_test_split\n",
    "from sklearn.ensemble import RandomForestClassifier\n",
    "from sklearn.metrics import recall_score, accuracy_score, precision_score"
   ]
  },
  {
   "cell_type": "code",
   "execution_count": 113,
   "metadata": {},
   "outputs": [],
   "source": [
    "DATA_PATH=os.getenv(\"DATA_DIR\")\n"
   ]
  },
  {
   "cell_type": "code",
   "execution_count": 114,
   "metadata": {},
   "outputs": [],
   "source": [
    "spotify_df = pd.read_csv(os.path.join(DATA_PATH, 'Spotify/spotify_songs.csv'))"
   ]
  },
  {
   "cell_type": "code",
   "execution_count": 115,
   "metadata": {},
   "outputs": [
    {
     "data": {
      "application/vnd.microsoft.datawrangler.viewer.v0+json": {
       "columns": [
        {
         "name": "index",
         "rawType": "object",
         "type": "string"
        },
        {
         "name": "0",
         "rawType": "object",
         "type": "unknown"
        },
        {
         "name": "1",
         "rawType": "object",
         "type": "unknown"
        },
        {
         "name": "2",
         "rawType": "object",
         "type": "unknown"
        },
        {
         "name": "3",
         "rawType": "object",
         "type": "unknown"
        },
        {
         "name": "4",
         "rawType": "object",
         "type": "unknown"
        }
       ],
       "conversionMethod": "pd.DataFrame",
       "ref": "944efe43-2544-4784-83fb-cd693b38e7b5",
       "rows": [
        [
         "track_id",
         "6f807x0ima9a1j3VPbc7VN",
         "0r7CVbZTWZgbTCYdfa2P31",
         "1z1Hg7Vb0AhHDiEmnDE79l",
         "75FpbthrwQmzHlBJLuGdC7",
         "1e8PAfcKUYoKkxPhrHqw4x"
        ],
        [
         "track_name",
         "I Don't Care (with Justin Bieber) - Loud Luxury Remix",
         "Memories - Dillon Francis Remix",
         "All the Time - Don Diablo Remix",
         "Call You Mine - Keanu Silva Remix",
         "Someone You Loved - Future Humans Remix"
        ],
        [
         "track_artist",
         "Ed Sheeran",
         "Maroon 5",
         "Zara Larsson",
         "The Chainsmokers",
         "Lewis Capaldi"
        ],
        [
         "track_popularity",
         "66",
         "67",
         "70",
         "60",
         "69"
        ],
        [
         "track_album_id",
         "2oCs0DGTsRO98Gh5ZSl2Cx",
         "63rPSO264uRjW1X5E6cWv6",
         "1HoSmj2eLcsrR0vE9gThr4",
         "1nqYsOef1yKKuGOVchbsk6",
         "7m7vv9wlQ4i0LFuJiE2zsQ"
        ],
        [
         "track_album_name",
         "I Don't Care (with Justin Bieber) [Loud Luxury Remix]",
         "Memories (Dillon Francis Remix)",
         "All the Time (Don Diablo Remix)",
         "Call You Mine - The Remixes",
         "Someone You Loved (Future Humans Remix)"
        ],
        [
         "track_album_release_date",
         "2019-06-14",
         "2019-12-13",
         "2019-07-05",
         "2019-07-19",
         "2019-03-05"
        ],
        [
         "playlist_name",
         "Pop Remix",
         "Pop Remix",
         "Pop Remix",
         "Pop Remix",
         "Pop Remix"
        ],
        [
         "playlist_id",
         "37i9dQZF1DXcZDD7cfEKhW",
         "37i9dQZF1DXcZDD7cfEKhW",
         "37i9dQZF1DXcZDD7cfEKhW",
         "37i9dQZF1DXcZDD7cfEKhW",
         "37i9dQZF1DXcZDD7cfEKhW"
        ],
        [
         "playlist_genre",
         "pop",
         "pop",
         "pop",
         "pop",
         "pop"
        ],
        [
         "playlist_subgenre",
         "dance pop",
         "dance pop",
         "dance pop",
         "dance pop",
         "dance pop"
        ],
        [
         "danceability",
         "0.748",
         "0.726",
         "0.675",
         "0.718",
         "0.65"
        ],
        [
         "energy",
         "0.916",
         "0.815",
         "0.931",
         "0.93",
         "0.833"
        ],
        [
         "key",
         "6",
         "11",
         "1",
         "7",
         "1"
        ],
        [
         "loudness",
         "-2.634",
         "-4.969",
         "-3.432",
         "-3.778",
         "-4.672"
        ],
        [
         "mode",
         "1",
         "1",
         "0",
         "1",
         "1"
        ],
        [
         "speechiness",
         "0.0583",
         "0.0373",
         "0.0742",
         "0.102",
         "0.0359"
        ],
        [
         "acousticness",
         "0.102",
         "0.0724",
         "0.0794",
         "0.0287",
         "0.0803"
        ],
        [
         "instrumentalness",
         "0.0",
         "0.00421",
         "2.33e-05",
         "9.43e-06",
         "0.0"
        ],
        [
         "liveness",
         "0.0653",
         "0.357",
         "0.11",
         "0.204",
         "0.0833"
        ],
        [
         "valence",
         "0.518",
         "0.693",
         "0.613",
         "0.277",
         "0.725"
        ],
        [
         "tempo",
         "122.036",
         "99.972",
         "124.008",
         "121.956",
         "123.976"
        ],
        [
         "duration_ms",
         "194754",
         "162600",
         "176616",
         "169093",
         "189052"
        ]
       ],
       "shape": {
        "columns": 5,
        "rows": 23
       }
      },
      "text/html": [
       "<div>\n",
       "<style scoped>\n",
       "    .dataframe tbody tr th:only-of-type {\n",
       "        vertical-align: middle;\n",
       "    }\n",
       "\n",
       "    .dataframe tbody tr th {\n",
       "        vertical-align: top;\n",
       "    }\n",
       "\n",
       "    .dataframe thead th {\n",
       "        text-align: right;\n",
       "    }\n",
       "</style>\n",
       "<table border=\"1\" class=\"dataframe\">\n",
       "  <thead>\n",
       "    <tr style=\"text-align: right;\">\n",
       "      <th></th>\n",
       "      <th>0</th>\n",
       "      <th>1</th>\n",
       "      <th>2</th>\n",
       "      <th>3</th>\n",
       "      <th>4</th>\n",
       "    </tr>\n",
       "  </thead>\n",
       "  <tbody>\n",
       "    <tr>\n",
       "      <th>track_id</th>\n",
       "      <td>6f807x0ima9a1j3VPbc7VN</td>\n",
       "      <td>0r7CVbZTWZgbTCYdfa2P31</td>\n",
       "      <td>1z1Hg7Vb0AhHDiEmnDE79l</td>\n",
       "      <td>75FpbthrwQmzHlBJLuGdC7</td>\n",
       "      <td>1e8PAfcKUYoKkxPhrHqw4x</td>\n",
       "    </tr>\n",
       "    <tr>\n",
       "      <th>track_name</th>\n",
       "      <td>I Don't Care (with Justin Bieber) - Loud Luxur...</td>\n",
       "      <td>Memories - Dillon Francis Remix</td>\n",
       "      <td>All the Time - Don Diablo Remix</td>\n",
       "      <td>Call You Mine - Keanu Silva Remix</td>\n",
       "      <td>Someone You Loved - Future Humans Remix</td>\n",
       "    </tr>\n",
       "    <tr>\n",
       "      <th>track_artist</th>\n",
       "      <td>Ed Sheeran</td>\n",
       "      <td>Maroon 5</td>\n",
       "      <td>Zara Larsson</td>\n",
       "      <td>The Chainsmokers</td>\n",
       "      <td>Lewis Capaldi</td>\n",
       "    </tr>\n",
       "    <tr>\n",
       "      <th>track_popularity</th>\n",
       "      <td>66</td>\n",
       "      <td>67</td>\n",
       "      <td>70</td>\n",
       "      <td>60</td>\n",
       "      <td>69</td>\n",
       "    </tr>\n",
       "    <tr>\n",
       "      <th>track_album_id</th>\n",
       "      <td>2oCs0DGTsRO98Gh5ZSl2Cx</td>\n",
       "      <td>63rPSO264uRjW1X5E6cWv6</td>\n",
       "      <td>1HoSmj2eLcsrR0vE9gThr4</td>\n",
       "      <td>1nqYsOef1yKKuGOVchbsk6</td>\n",
       "      <td>7m7vv9wlQ4i0LFuJiE2zsQ</td>\n",
       "    </tr>\n",
       "    <tr>\n",
       "      <th>track_album_name</th>\n",
       "      <td>I Don't Care (with Justin Bieber) [Loud Luxury...</td>\n",
       "      <td>Memories (Dillon Francis Remix)</td>\n",
       "      <td>All the Time (Don Diablo Remix)</td>\n",
       "      <td>Call You Mine - The Remixes</td>\n",
       "      <td>Someone You Loved (Future Humans Remix)</td>\n",
       "    </tr>\n",
       "    <tr>\n",
       "      <th>track_album_release_date</th>\n",
       "      <td>2019-06-14</td>\n",
       "      <td>2019-12-13</td>\n",
       "      <td>2019-07-05</td>\n",
       "      <td>2019-07-19</td>\n",
       "      <td>2019-03-05</td>\n",
       "    </tr>\n",
       "    <tr>\n",
       "      <th>playlist_name</th>\n",
       "      <td>Pop Remix</td>\n",
       "      <td>Pop Remix</td>\n",
       "      <td>Pop Remix</td>\n",
       "      <td>Pop Remix</td>\n",
       "      <td>Pop Remix</td>\n",
       "    </tr>\n",
       "    <tr>\n",
       "      <th>playlist_id</th>\n",
       "      <td>37i9dQZF1DXcZDD7cfEKhW</td>\n",
       "      <td>37i9dQZF1DXcZDD7cfEKhW</td>\n",
       "      <td>37i9dQZF1DXcZDD7cfEKhW</td>\n",
       "      <td>37i9dQZF1DXcZDD7cfEKhW</td>\n",
       "      <td>37i9dQZF1DXcZDD7cfEKhW</td>\n",
       "    </tr>\n",
       "    <tr>\n",
       "      <th>playlist_genre</th>\n",
       "      <td>pop</td>\n",
       "      <td>pop</td>\n",
       "      <td>pop</td>\n",
       "      <td>pop</td>\n",
       "      <td>pop</td>\n",
       "    </tr>\n",
       "    <tr>\n",
       "      <th>playlist_subgenre</th>\n",
       "      <td>dance pop</td>\n",
       "      <td>dance pop</td>\n",
       "      <td>dance pop</td>\n",
       "      <td>dance pop</td>\n",
       "      <td>dance pop</td>\n",
       "    </tr>\n",
       "    <tr>\n",
       "      <th>danceability</th>\n",
       "      <td>0.748</td>\n",
       "      <td>0.726</td>\n",
       "      <td>0.675</td>\n",
       "      <td>0.718</td>\n",
       "      <td>0.65</td>\n",
       "    </tr>\n",
       "    <tr>\n",
       "      <th>energy</th>\n",
       "      <td>0.916</td>\n",
       "      <td>0.815</td>\n",
       "      <td>0.931</td>\n",
       "      <td>0.93</td>\n",
       "      <td>0.833</td>\n",
       "    </tr>\n",
       "    <tr>\n",
       "      <th>key</th>\n",
       "      <td>6</td>\n",
       "      <td>11</td>\n",
       "      <td>1</td>\n",
       "      <td>7</td>\n",
       "      <td>1</td>\n",
       "    </tr>\n",
       "    <tr>\n",
       "      <th>loudness</th>\n",
       "      <td>-2.634</td>\n",
       "      <td>-4.969</td>\n",
       "      <td>-3.432</td>\n",
       "      <td>-3.778</td>\n",
       "      <td>-4.672</td>\n",
       "    </tr>\n",
       "    <tr>\n",
       "      <th>mode</th>\n",
       "      <td>1</td>\n",
       "      <td>1</td>\n",
       "      <td>0</td>\n",
       "      <td>1</td>\n",
       "      <td>1</td>\n",
       "    </tr>\n",
       "    <tr>\n",
       "      <th>speechiness</th>\n",
       "      <td>0.0583</td>\n",
       "      <td>0.0373</td>\n",
       "      <td>0.0742</td>\n",
       "      <td>0.102</td>\n",
       "      <td>0.0359</td>\n",
       "    </tr>\n",
       "    <tr>\n",
       "      <th>acousticness</th>\n",
       "      <td>0.102</td>\n",
       "      <td>0.0724</td>\n",
       "      <td>0.0794</td>\n",
       "      <td>0.0287</td>\n",
       "      <td>0.0803</td>\n",
       "    </tr>\n",
       "    <tr>\n",
       "      <th>instrumentalness</th>\n",
       "      <td>0.0</td>\n",
       "      <td>0.00421</td>\n",
       "      <td>0.000023</td>\n",
       "      <td>0.000009</td>\n",
       "      <td>0.0</td>\n",
       "    </tr>\n",
       "    <tr>\n",
       "      <th>liveness</th>\n",
       "      <td>0.0653</td>\n",
       "      <td>0.357</td>\n",
       "      <td>0.11</td>\n",
       "      <td>0.204</td>\n",
       "      <td>0.0833</td>\n",
       "    </tr>\n",
       "    <tr>\n",
       "      <th>valence</th>\n",
       "      <td>0.518</td>\n",
       "      <td>0.693</td>\n",
       "      <td>0.613</td>\n",
       "      <td>0.277</td>\n",
       "      <td>0.725</td>\n",
       "    </tr>\n",
       "    <tr>\n",
       "      <th>tempo</th>\n",
       "      <td>122.036</td>\n",
       "      <td>99.972</td>\n",
       "      <td>124.008</td>\n",
       "      <td>121.956</td>\n",
       "      <td>123.976</td>\n",
       "    </tr>\n",
       "    <tr>\n",
       "      <th>duration_ms</th>\n",
       "      <td>194754</td>\n",
       "      <td>162600</td>\n",
       "      <td>176616</td>\n",
       "      <td>169093</td>\n",
       "      <td>189052</td>\n",
       "    </tr>\n",
       "  </tbody>\n",
       "</table>\n",
       "</div>"
      ],
      "text/plain": [
       "                                                                          0  \\\n",
       "track_id                                             6f807x0ima9a1j3VPbc7VN   \n",
       "track_name                I Don't Care (with Justin Bieber) - Loud Luxur...   \n",
       "track_artist                                                     Ed Sheeran   \n",
       "track_popularity                                                         66   \n",
       "track_album_id                                       2oCs0DGTsRO98Gh5ZSl2Cx   \n",
       "track_album_name          I Don't Care (with Justin Bieber) [Loud Luxury...   \n",
       "track_album_release_date                                         2019-06-14   \n",
       "playlist_name                                                     Pop Remix   \n",
       "playlist_id                                          37i9dQZF1DXcZDD7cfEKhW   \n",
       "playlist_genre                                                          pop   \n",
       "playlist_subgenre                                                 dance pop   \n",
       "danceability                                                          0.748   \n",
       "energy                                                                0.916   \n",
       "key                                                                       6   \n",
       "loudness                                                             -2.634   \n",
       "mode                                                                      1   \n",
       "speechiness                                                          0.0583   \n",
       "acousticness                                                          0.102   \n",
       "instrumentalness                                                        0.0   \n",
       "liveness                                                             0.0653   \n",
       "valence                                                               0.518   \n",
       "tempo                                                               122.036   \n",
       "duration_ms                                                          194754   \n",
       "\n",
       "                                                        1  \\\n",
       "track_id                           0r7CVbZTWZgbTCYdfa2P31   \n",
       "track_name                Memories - Dillon Francis Remix   \n",
       "track_artist                                     Maroon 5   \n",
       "track_popularity                                       67   \n",
       "track_album_id                     63rPSO264uRjW1X5E6cWv6   \n",
       "track_album_name          Memories (Dillon Francis Remix)   \n",
       "track_album_release_date                       2019-12-13   \n",
       "playlist_name                                   Pop Remix   \n",
       "playlist_id                        37i9dQZF1DXcZDD7cfEKhW   \n",
       "playlist_genre                                        pop   \n",
       "playlist_subgenre                               dance pop   \n",
       "danceability                                        0.726   \n",
       "energy                                              0.815   \n",
       "key                                                    11   \n",
       "loudness                                           -4.969   \n",
       "mode                                                    1   \n",
       "speechiness                                        0.0373   \n",
       "acousticness                                       0.0724   \n",
       "instrumentalness                                  0.00421   \n",
       "liveness                                            0.357   \n",
       "valence                                             0.693   \n",
       "tempo                                              99.972   \n",
       "duration_ms                                        162600   \n",
       "\n",
       "                                                        2  \\\n",
       "track_id                           1z1Hg7Vb0AhHDiEmnDE79l   \n",
       "track_name                All the Time - Don Diablo Remix   \n",
       "track_artist                                 Zara Larsson   \n",
       "track_popularity                                       70   \n",
       "track_album_id                     1HoSmj2eLcsrR0vE9gThr4   \n",
       "track_album_name          All the Time (Don Diablo Remix)   \n",
       "track_album_release_date                       2019-07-05   \n",
       "playlist_name                                   Pop Remix   \n",
       "playlist_id                        37i9dQZF1DXcZDD7cfEKhW   \n",
       "playlist_genre                                        pop   \n",
       "playlist_subgenre                               dance pop   \n",
       "danceability                                        0.675   \n",
       "energy                                              0.931   \n",
       "key                                                     1   \n",
       "loudness                                           -3.432   \n",
       "mode                                                    0   \n",
       "speechiness                                        0.0742   \n",
       "acousticness                                       0.0794   \n",
       "instrumentalness                                 0.000023   \n",
       "liveness                                             0.11   \n",
       "valence                                             0.613   \n",
       "tempo                                             124.008   \n",
       "duration_ms                                        176616   \n",
       "\n",
       "                                                          3  \\\n",
       "track_id                             75FpbthrwQmzHlBJLuGdC7   \n",
       "track_name                Call You Mine - Keanu Silva Remix   \n",
       "track_artist                               The Chainsmokers   \n",
       "track_popularity                                         60   \n",
       "track_album_id                       1nqYsOef1yKKuGOVchbsk6   \n",
       "track_album_name                Call You Mine - The Remixes   \n",
       "track_album_release_date                         2019-07-19   \n",
       "playlist_name                                     Pop Remix   \n",
       "playlist_id                          37i9dQZF1DXcZDD7cfEKhW   \n",
       "playlist_genre                                          pop   \n",
       "playlist_subgenre                                 dance pop   \n",
       "danceability                                          0.718   \n",
       "energy                                                 0.93   \n",
       "key                                                       7   \n",
       "loudness                                             -3.778   \n",
       "mode                                                      1   \n",
       "speechiness                                           0.102   \n",
       "acousticness                                         0.0287   \n",
       "instrumentalness                                   0.000009   \n",
       "liveness                                              0.204   \n",
       "valence                                               0.277   \n",
       "tempo                                               121.956   \n",
       "duration_ms                                          169093   \n",
       "\n",
       "                                                                4  \n",
       "track_id                                   1e8PAfcKUYoKkxPhrHqw4x  \n",
       "track_name                Someone You Loved - Future Humans Remix  \n",
       "track_artist                                        Lewis Capaldi  \n",
       "track_popularity                                               69  \n",
       "track_album_id                             7m7vv9wlQ4i0LFuJiE2zsQ  \n",
       "track_album_name          Someone You Loved (Future Humans Remix)  \n",
       "track_album_release_date                               2019-03-05  \n",
       "playlist_name                                           Pop Remix  \n",
       "playlist_id                                37i9dQZF1DXcZDD7cfEKhW  \n",
       "playlist_genre                                                pop  \n",
       "playlist_subgenre                                       dance pop  \n",
       "danceability                                                 0.65  \n",
       "energy                                                      0.833  \n",
       "key                                                             1  \n",
       "loudness                                                   -4.672  \n",
       "mode                                                            1  \n",
       "speechiness                                                0.0359  \n",
       "acousticness                                               0.0803  \n",
       "instrumentalness                                              0.0  \n",
       "liveness                                                   0.0833  \n",
       "valence                                                     0.725  \n",
       "tempo                                                     123.976  \n",
       "duration_ms                                                189052  "
      ]
     },
     "execution_count": 115,
     "metadata": {},
     "output_type": "execute_result"
    }
   ],
   "source": [
    "spotify_df.head().T"
   ]
  },
  {
   "cell_type": "code",
   "execution_count": 116,
   "metadata": {},
   "outputs": [
    {
     "data": {
      "text/plain": [
       "Index(['track_id', 'track_name', 'track_artist', 'track_popularity',\n",
       "       'track_album_id', 'track_album_name', 'track_album_release_date',\n",
       "       'playlist_name', 'playlist_id', 'playlist_genre', 'playlist_subgenre',\n",
       "       'danceability', 'energy', 'key', 'loudness', 'mode', 'speechiness',\n",
       "       'acousticness', 'instrumentalness', 'liveness', 'valence', 'tempo',\n",
       "       'duration_ms'],\n",
       "      dtype='object')"
      ]
     },
     "execution_count": 116,
     "metadata": {},
     "output_type": "execute_result"
    }
   ],
   "source": [
    "spotify_df.columns"
   ]
  },
  {
   "cell_type": "code",
   "execution_count": null,
   "metadata": {},
   "outputs": [],
   "source": []
  },
  {
   "cell_type": "code",
   "execution_count": 146,
   "metadata": {},
   "outputs": [],
   "source": [
    "def load_data():\n",
    "    spotify_df = pd.read_csv(os.path.join(DATA_PATH, 'Spotify/spotify_songs.csv'))\n",
    "    x_columns = ['playlist_genre', 'danceability', 'energy', 'key', 'loudness', 'mode', 'speechiness',\n",
    "        'acousticness', 'instrumentalness', 'liveness', 'valence', 'tempo']\n",
    "    y_column = 'track_popularity'\n",
    "    X = spotify_df[x_columns]\n",
    "    y = spotify_df[y_column]\n",
    "    return X,y"
   ]
  },
  {
   "cell_type": "code",
   "execution_count": 147,
   "metadata": {},
   "outputs": [],
   "source": [
    "def y_to_cat(y):\n",
    "    y = y.map(lambda x: 1 if x>= 70  else 0)\n",
    "\n",
    "    return y\n",
    "\n"
   ]
  },
  {
   "cell_type": "code",
   "execution_count": 148,
   "metadata": {},
   "outputs": [],
   "source": [
    "def train_test(X,y):\n",
    "    X_train, X_test, y_train, y_test = train_test_split(X, y, test_size=0.3, random_state=123)\n",
    "    print(\"Сургалтын X-н хэмжээ:\", X_train.shape, \"Y-н хэмжээ:\", y_train.shape)\n",
    "    print(\"Тестийн X-н хэмжээ:\", X_test.shape, \"Y-н хэмжээ:\", y_test.shape)\n",
    "    return X_train, X_test, y_train, y_test\n",
    "\n"
   ]
  },
  {
   "cell_type": "code",
   "execution_count": 149,
   "metadata": {},
   "outputs": [
    {
     "name": "stdout",
     "output_type": "stream",
     "text": [
      "Сургалтын X-н хэмжээ: (22983, 12) Y-н хэмжээ: (22983,)\n",
      "Тестийн X-н хэмжээ: (9850, 12) Y-н хэмжээ: (9850,)\n",
      "9806       rap\n",
      "3267       pop\n",
      "6653       rap\n",
      "30492      edm\n",
      "3622       pop\n",
      "         ...  \n",
      "11076      rap\n",
      "18900    latin\n",
      "7165       rap\n",
      "13192     rock\n",
      "2284       pop\n",
      "Name: playlist_genre, Length: 9850, dtype: object\n",
      "9806      6\n",
      "3267      5\n",
      "6653      6\n",
      "30492     6\n",
      "3622      0\n",
      "         ..\n",
      "11076     6\n",
      "18900    10\n",
      "7165     11\n",
      "13192    10\n",
      "2284      2\n",
      "Name: key, Length: 9850, dtype: int64\n",
      "9806     0\n",
      "3267     0\n",
      "6653     0\n",
      "30492    1\n",
      "3622     0\n",
      "        ..\n",
      "11076    1\n",
      "18900    1\n",
      "7165     1\n",
      "13192    1\n",
      "2284     1\n",
      "Name: mode, Length: 9850, dtype: int64\n"
     ]
    }
   ],
   "source": [
    "from sklearn.preprocessing import MinMaxScaler, LabelEncoder\n",
    "    \n",
    "X, y = load_data()\n",
    "    \n",
    "X_train, X_test, y_train, y_test = train_test(X, y)\n",
    "num_columns = [col for col in X_train.columns if X_train[col].dtype in ['float','int']]\n",
    "cat_columns = [col for col in X_train.columns if X_train[col].dtype not in ['float','int']]\n",
    "\n",
    "#print(X_test['playlist_genre'])\n",
    "\n",
    "for col in cat_columns:\n",
    "        test = X_test[col]\n",
    "        print(test)"
   ]
  },
  {
   "cell_type": "code",
   "execution_count": 150,
   "metadata": {},
   "outputs": [],
   "source": [
    "def scaler_process_data():\n",
    "    from sklearn.preprocessing import MinMaxScaler, LabelEncoder\n",
    "    \n",
    "    X, y = load_data()\n",
    "    \n",
    "    X_train, X_test, y_train, y_test = train_test(X, y)\n",
    "    num_columns = [col for col in X_train.columns if X_train[col].dtype in ['float','int']]\n",
    "    cat_columns = [col for col in X_train.columns if X_train[col].dtype not in ['float','int']]\n",
    "    \n",
    "    scaler = MinMaxScaler()\n",
    "    scaler.fit(X_train[num_columns])\n",
    "    X_train[num_columns] = scaler.transform(X_train[num_columns])\n",
    "    X_test[num_columns] = scaler.transform(X_test[num_columns])\n",
    "    with open(os.path.join(os.getenv('MODEL_DIR'),'scaler.pickle'),'wb') as f:\n",
    "        pickle.dump(scaler,f)\n",
    "    labelencoder = LabelEncoder()\n",
    "\n",
    "\n",
    "\n",
    "\n",
    "    for col in cat_columns:\n",
    "        labelencoder.fit(X_train[col])\n",
    "        X_train[col] = labelencoder.transform(X_train[col])\n",
    "        X_test[col] = labelencoder.transform(X_test[col])\n",
    "        encoder_name = 'labelencoder_'+col+\".pickle\"\n",
    "    \n",
    "        with open(os.path.join(os.getenv('MODEL_DIR'), encoder_name),'wb') as f:\n",
    "            pickle.dump(labelencoder,f)\n",
    "            \n",
    "    y_train = y_to_cat(y_train)\n",
    "    y_test = y_to_cat(y_test)\n",
    "    return X_train, X_test, y_train, y_test"
   ]
  },
  {
   "cell_type": "code",
   "execution_count": 151,
   "metadata": {},
   "outputs": [],
   "source": [
    "def build_model(max_depth, min_samples_leaf, min_samples_split):\n",
    "    \n",
    "    model = RandomForestClassifier(random_state=123,max_depth=max_depth, min_samples_leaf=min_samples_leaf,min_samples_split=min_samples_split)\n",
    "    \n",
    "    return model"
   ]
  },
  {
   "cell_type": "code",
   "execution_count": 152,
   "metadata": {},
   "outputs": [],
   "source": [
    "def train_eval_model(model, data):\n",
    "    from sklearn.metrics import recall_score, precision_score, accuracy_score\n",
    "    \n",
    "    model.fit(data[0],data[2])\n",
    "    y_pred = model.predict(data[1])\n",
    "    \n",
    "    print('Recall score:', recall_score(data[3], y_pred))\n",
    "    print('precision_score:', precision_score(data[3], y_pred))\n",
    "    print('accuracy_score:', accuracy_score(data[3], y_pred))\n",
    "    \n",
    "    return model"
   ]
  },
  {
   "cell_type": "code",
   "execution_count": 153,
   "metadata": {},
   "outputs": [],
   "source": [
    "def save_model(model):\n",
    "    with open(os.path.join(os.getenv('MODEL_DIR'), 'model.pickle'),'wb') as f:\n",
    "        pickle.dump(model, f)\n",
    "        \n",
    "    print(\"Model saved\")"
   ]
  },
  {
   "cell_type": "code",
   "execution_count": 154,
   "metadata": {},
   "outputs": [
    {
     "name": "stdout",
     "output_type": "stream",
     "text": [
      "Сургалтын X-н хэмжээ: (22983, 12) Y-н хэмжээ: (22983,)\n",
      "Тестийн X-н хэмжээ: (9850, 12) Y-н хэмжээ: (9850,)\n",
      "(       playlist_genre  danceability    energy  key  loudness  mode  \\\n",
      "29104               0      0.572737  0.903212    2  0.850219     1   \n",
      "9177                4      0.816887  0.853810    4  0.902688     0   \n",
      "7862                4      0.969481  0.423306    8  0.612891     1   \n",
      "18471               1      0.846389  0.604783    6  0.846678     0   \n",
      "30587               0      0.493388  0.593693    6  0.792029     0   \n",
      "...               ...           ...       ...  ...       ...   ...   \n",
      "7763                4      0.746694  0.740891    9  0.854452     0   \n",
      "15377               5      0.419125  0.901196    9  0.730214     1   \n",
      "17730               1      0.863683  0.860867    9  0.899084     0   \n",
      "28030               0      0.268566  0.980844    6  0.912327     0   \n",
      "15725               5      0.500509  0.949590    2  0.876873     1   \n",
      "\n",
      "       speechiness  acousticness  instrumentalness  liveness   valence  \\\n",
      "29104     0.116306      0.000160          0.847082  0.068173  0.276488   \n",
      "9177      0.280502      0.142857          0.000000  0.300201  0.348133   \n",
      "7862      0.339795      0.007948          0.030382  0.224900  0.729566   \n",
      "18471     0.043900      0.283702          0.000000  0.076406  0.594349   \n",
      "30587     0.050513      0.251509          0.000529  0.103414  0.330979   \n",
      "...            ...           ...               ...       ...       ...   \n",
      "7763      0.094641      0.566398          0.000380  0.075402  0.335015   \n",
      "15377     0.461802      0.048692          0.131791  0.406627  0.425832   \n",
      "17730     0.183580      0.201207          0.004577  0.066064  0.624622   \n",
      "28030     0.059977      0.000878          0.386318  0.112450  0.232089   \n",
      "15725     0.063740      0.000043          0.004718  0.071285  0.404642   \n",
      "\n",
      "          tempo  \n",
      "29104  0.534727  \n",
      "9177   0.364672  \n",
      "7862   0.550188  \n",
      "18471  0.392637  \n",
      "30587  0.709602  \n",
      "...         ...  \n",
      "7763   0.484756  \n",
      "15377  0.374791  \n",
      "17730  0.501165  \n",
      "28030  0.534038  \n",
      "15725  0.559785  \n",
      "\n",
      "[22983 rows x 12 columns],        playlist_genre  danceability    energy  key  loudness  mode  \\\n",
      "9806                4      0.818922  0.719719    6  0.831193     0   \n",
      "3267                2      0.586979  0.746940    5  0.822098     0   \n",
      "6653                4      0.773143  0.603775    6  0.823649     0   \n",
      "30492               0      0.758901  0.916319    6  0.927561     1   \n",
      "3622                2      0.667345  0.522110    0  0.655847     0   \n",
      "...               ...           ...       ...  ...       ...   ...   \n",
      "11076               4      0.831129  0.519085    6  0.760933     1   \n",
      "18900               1      0.896236  0.722743   10  0.865327     1   \n",
      "7165                4      0.957274  0.826588   11  0.848312     1   \n",
      "13192               5      0.448627  0.607808   10  0.855730     1   \n",
      "2284                2      0.747711  0.872966    2  0.862645     1   \n",
      "\n",
      "       speechiness  acousticness  instrumentalness  liveness   valence  \\\n",
      "9806      0.050057      0.002404          0.000000  0.200803  0.530777   \n",
      "3267      0.031813      0.602616          0.011268  0.183735  0.263370   \n",
      "6653      0.095211      0.422535          0.000005  0.191767  0.682139   \n",
      "30492     0.061802      0.022636          0.000000  0.052912  0.726539   \n",
      "3622      0.049829      0.357143          0.008058  0.116466  0.594349   \n",
      "...            ...           ...               ...       ...       ...   \n",
      "11076     0.050285      0.167002          0.000000  0.216867  0.431887   \n",
      "18900     0.052908      0.223340          0.000000  0.059839  0.718466   \n",
      "7165      0.173318      0.005121          0.000000  0.096285  0.969728   \n",
      "13192     0.035804      0.748491          0.296781  0.168675  0.353179   \n",
      "2284      0.039909      0.230382          0.000000  0.692771  0.721493   \n",
      "\n",
      "          tempo  \n",
      "9806   0.396797  \n",
      "3267   0.546980  \n",
      "6653   0.668456  \n",
      "30492  0.417683  \n",
      "3622   0.446813  \n",
      "...         ...  \n",
      "11076  0.484994  \n",
      "18900  0.405191  \n",
      "7165   0.534510  \n",
      "13192  0.386656  \n",
      "2284   0.526449  \n",
      "\n",
      "[9850 rows x 12 columns], 29104    0\n",
      "9177     0\n",
      "7862     0\n",
      "18471    1\n",
      "30587    0\n",
      "        ..\n",
      "7763     0\n",
      "15377    1\n",
      "17730    0\n",
      "28030    0\n",
      "15725    0\n",
      "Name: track_popularity, Length: 22983, dtype: int64, 9806     0\n",
      "3267     1\n",
      "6653     1\n",
      "30492    0\n",
      "3622     0\n",
      "        ..\n",
      "11076    0\n",
      "18900    0\n",
      "7165     0\n",
      "13192    0\n",
      "2284     0\n",
      "Name: track_popularity, Length: 9850, dtype: int64)\n",
      "Recall score: 0.4165497896213184\n",
      "precision_score: 0.9324960753532182\n",
      "accuracy_score: 0.9111675126903553\n",
      "Model saved\n"
     ]
    }
   ],
   "source": [
    "max_depth = int(os.getenv('MAX_DEPTH'))\n",
    "min_samples_leaf = int(os.getenv(\"MIN_SAMPLES_LEAF\"))\n",
    "min_samples_split = int(os.getenv(\"MIN_SAMPLES_SPLIT\"))\n",
    "\n",
    "\n",
    "data = scaler_process_data()\n",
    "model = build_model(max_depth,min_samples_leaf,min_samples_split)\n",
    "print(data)\n",
    "\n",
    "model_trained = train_eval_model(model, data)\n",
    "save_model(model_trained)"
   ]
  },
  {
   "cell_type": "code",
   "execution_count": 126,
   "metadata": {},
   "outputs": [
    {
     "name": "stdout",
     "output_type": "stream",
     "text": [
      "Writing config.py\n"
     ]
    }
   ],
   "source": [
    "%%writefile config.py\n",
    "\n",
    "data_dir = \"./MLDATA\"\n",
    "model_dir = \"./MLMODEL\"\n",
    "max_depth = 30\n",
    "min_samples_leaf = 2\n",
    "min_samples_split = 3"
   ]
  },
  {
   "cell_type": "code",
   "execution_count": 127,
   "metadata": {},
   "outputs": [],
   "source": [
    "python_code=\"\"\"\n",
    "data_dir = \"./MLDATA\"\n",
    "model_dir = \"./MLMODEL\"\n",
    "max_depth = 30\n",
    "min_samples_leaf = 2\n",
    "min_samples_split = 3\n",
    "\"\"\"\n",
    "\n",
    "file_name = \"config2.py\"\n",
    "\n",
    "with open(file_name,'w') as f:\n",
    "    f.write(python_code)"
   ]
  },
  {
   "cell_type": "markdown",
   "metadata": {},
   "source": [
    "JSON"
   ]
  },
  {
   "cell_type": "code",
   "execution_count": 128,
   "metadata": {},
   "outputs": [],
   "source": [
    "import json"
   ]
  },
  {
   "cell_type": "code",
   "execution_count": 143,
   "metadata": {},
   "outputs": [],
   "source": [
    "with open('config.json', 'w') as f:\n",
    "    json.dump({\n",
    "  \"DATA_DIR\": \"/Users/user/MLDATA\",\n",
    "  \"MODEL_DIR\": \"/Users/user/MLModel\",\n",
    "  \"LOCAL_DATA_DIR\": \"/Users/user/PythonProjects/MLCourse/Modules/Data\",\n",
    "  \"DATA_COLUMNS\": {\n",
    "    \"X_COLUMNS\": [\n",
    "      \"playlist_genre\",\n",
    "      \"danceability\",\n",
    "      \"energy\",\n",
    "      \"key\",\n",
    "      \"loudness\",\n",
    "      \"mode\",\n",
    "      \"speechiness\",\n",
    "      \"acousticness\",\n",
    "      \"instrumentalness\",\n",
    "      \"liveness\",\n",
    "      \"valence\",\n",
    "      \"tempo\"\n",
    "    ],\n",
    "    \"Y_COLUMN\": \"track_popularity\"\n",
    "  },\n",
    "  \"MODEL_CONFIG\": {\n",
    "    \"MAX_DEPTH\": 30,\n",
    "    \"MIN_SAMPLES_LEAF\": 2,\n",
    "    \"MIN_SAMPLES_SPLIT\": 3\n",
    "  }\n",
    "}, f, indent=2)"
   ]
  },
  {
   "cell_type": "code",
   "execution_count": 131,
   "metadata": {},
   "outputs": [],
   "source": [
    "with open('config.json', 'r') as f:\n",
    "    config_json = json.load(f)"
   ]
  },
  {
   "cell_type": "code",
   "execution_count": 132,
   "metadata": {},
   "outputs": [
    {
     "data": {
      "text/plain": [
       "'\\ndata_dir = \"./MLDATA\"\\nmodel_dir = \"./MLMODEL\"\\nmax_depth = 30\\nmin_samples_leaf = 2\\nmin_samples_split = 3\\n'"
      ]
     },
     "execution_count": 132,
     "metadata": {},
     "output_type": "execute_result"
    }
   ],
   "source": [
    "config_json"
   ]
  },
  {
   "cell_type": "code",
   "execution_count": 133,
   "metadata": {},
   "outputs": [
    {
     "name": "stdout",
     "output_type": "stream",
     "text": [
      "Collecting pyyaml\n",
      "  Downloading PyYAML-6.0.2-cp38-cp38-win_amd64.whl.metadata (2.1 kB)\n",
      "Downloading PyYAML-6.0.2-cp38-cp38-win_amd64.whl (162 kB)\n",
      "Installing collected packages: pyyaml\n",
      "Successfully installed pyyaml-6.0.2\n"
     ]
    }
   ],
   "source": [
    "!pip install pyyaml"
   ]
  },
  {
   "cell_type": "code",
   "execution_count": 134,
   "metadata": {},
   "outputs": [],
   "source": [
    "import yaml"
   ]
  },
  {
   "cell_type": "code",
   "execution_count": 136,
   "metadata": {},
   "outputs": [],
   "source": [
    "with open('config.yaml', 'w') as f:\n",
    "    yaml.dump({\n",
    "  \"DATA_DIR\": \"/Users/user/MLDATA\",\n",
    "  \"MODEL_DIR\": \"/Users/user/MLModel\",\n",
    "  \"LOCAL_DATA_DIR\": \"/Users/user/PythonProjects/MLCourse/Modules/Data\",\n",
    "  \"DATA_COLUMNS\": {\n",
    "    \"X_COLUMNS\": [\n",
    "      \"playlist_genre\",\n",
    "      \"danceability\",\n",
    "      \"energy\",\n",
    "      \"key\",\n",
    "      \"loudness\",\n",
    "      \"mode\",\n",
    "      \"speechiness\",\n",
    "      \"acousticness\",\n",
    "      \"instrumentalness\",\n",
    "      \"liveness\",\n",
    "      \"valence\",\n",
    "      \"tempo\"\n",
    "    ],\n",
    "    \"Y_COLUMN\": \"track_popularity\"\n",
    "  },\n",
    "  \"MODEL_CONFIG\": {\n",
    "    \"MAX_DEPTH\": 30,\n",
    "    \"MIN_SAMPLES_LEAF\": 2,\n",
    "    \"MIN_SAMPLES_SPLIT\": 3\n",
    "  }\n",
    "}\n",
    ", f)"
   ]
  },
  {
   "cell_type": "code",
   "execution_count": 137,
   "metadata": {},
   "outputs": [
    {
     "name": "stdout",
     "output_type": "stream",
     "text": [
      "{'DATA_COLUMNS': {'X_COLUMNS': ['playlist_genre', 'danceability', 'energy', 'key', 'loudness', 'mode', 'speechiness', 'acousticness', 'instrumentalness', 'liveness', 'valence', 'tempo'], 'Y_COLUMN': 'track_popularity'}, 'DATA_DIR': '/Users/user/MLDATA', 'LOCAL_DATA_DIR': '/Users/user/PythonProjects/MLCourse/Modules/Data', 'MODEL_CONFIG': {'MAX_DEPTH': 30, 'MIN_SAMPLES_LEAF': 2, 'MIN_SAMPLES_SPLIT': 3}, 'MODEL_DIR': '/Users/user/MLModel'}\n"
     ]
    }
   ],
   "source": [
    "with open('config.yaml', 'r') as f:\n",
    "    config_yaml = yaml.safe_load(f)\n",
    "    \n",
    "print(config_yaml)"
   ]
  },
  {
   "cell_type": "code",
   "execution_count": 138,
   "metadata": {},
   "outputs": [
    {
     "name": "stdout",
     "output_type": "stream",
     "text": [
      "Collecting xml-python\n",
      "  Downloading xml_python-0.4.3-py3-none-any.whl.metadata (360 bytes)\n",
      "Collecting attrs (from xml-python)\n",
      "  Downloading attrs-25.1.0-py3-none-any.whl.metadata (10 kB)\n",
      "Downloading xml_python-0.4.3-py3-none-any.whl (9.2 kB)\n",
      "Downloading attrs-25.1.0-py3-none-any.whl (63 kB)\n",
      "Installing collected packages: attrs, xml-python\n",
      "Successfully installed attrs-25.1.0 xml-python-0.4.3\n"
     ]
    }
   ],
   "source": [
    "!pip install xml-python"
   ]
  },
  {
   "cell_type": "code",
   "execution_count": 139,
   "metadata": {},
   "outputs": [],
   "source": [
    "import xml.etree.ElementTree as ET"
   ]
  },
  {
   "cell_type": "code",
   "execution_count": 140,
   "metadata": {},
   "outputs": [],
   "source": [
    "\n",
    "root = ET.Element(\"config\")\n",
    "data_dir = ET.SubElement (root, \"data_dir\") \n",
    "data_dir.text = \"./MLData\"\n",
    "model_dir = ET.SubElement(root, \"model_dir\")\n",
    "model_dir.text = \"./MLModel\"\n",
    "model_config = ET.SubElement (root, \"model_config\")\n",
    "max_depth = ET.SubElement (model_config, \"max_depth\")\n",
    "max_depth.text = \"30\"\n",
    "min_samples_leaf = ET.SubElement (model_config, \"min_samples_leaf\") \n",
    "min_samples_leaf.text = \"2\"\n",
    "min_samples_split = ET. SubElement (model_config, \"min_samples_split\") \n",
    "min_samples_split.text = \"3\"\n",
    "tree= ET.ElementTree(root)\n",
    "tree.write(\"config.xml\", xml_declaration=True, method='xml')"
   ]
  },
  {
   "cell_type": "code",
   "execution_count": 141,
   "metadata": {},
   "outputs": [
    {
     "data": {
      "text/plain": [
       "'./MLData'"
      ]
     },
     "execution_count": 141,
     "metadata": {},
     "output_type": "execute_result"
    }
   ],
   "source": [
    "tree = ET.parse('config.xml')\n",
    "root = tree.getroot()\n",
    "\n",
    "data_dir = root.find('data_dir').text\n",
    "data_dir"
   ]
  },
  {
   "cell_type": "code",
   "execution_count": 142,
   "metadata": {},
   "outputs": [
    {
     "name": "stdout",
     "output_type": "stream",
     "text": [
      "config None\n",
      "data_dir ./MLData\n",
      "model_dir ./MLModel\n",
      "model_config None\n",
      "max_depth 30\n",
      "min_samples_leaf 2\n",
      "min_samples_split 3\n"
     ]
    }
   ],
   "source": [
    "for element in root.iter():\n",
    "    print(element.tag, element.text)"
   ]
  }
 ],
 "metadata": {
  "kernelspec": {
   "display_name": "testenv",
   "language": "python",
   "name": "python3"
  },
  "language_info": {
   "codemirror_mode": {
    "name": "ipython",
    "version": 3
   },
   "file_extension": ".py",
   "mimetype": "text/x-python",
   "name": "python",
   "nbconvert_exporter": "python",
   "pygments_lexer": "ipython3",
   "version": "3.8.20"
  }
 },
 "nbformat": 4,
 "nbformat_minor": 2
}
